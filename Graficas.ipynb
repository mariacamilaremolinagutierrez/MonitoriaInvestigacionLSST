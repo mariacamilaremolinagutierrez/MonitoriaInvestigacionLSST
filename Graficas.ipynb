{
 "cells": [
  {
   "cell_type": "code",
   "execution_count": 1,
   "metadata": {
    "collapsed": false
   },
   "outputs": [
    {
     "name": "stdout",
     "output_type": "stream",
     "text": [
      "Populating the interactive namespace from numpy and matplotlib\n"
     ]
    }
   ],
   "source": [
    "%pylab inline"
   ]
  },
  {
   "cell_type": "code",
   "execution_count": 2,
   "metadata": {
    "collapsed": true
   },
   "outputs": [],
   "source": [
    "path_imagenes = './imagenes/graficas/'"
   ]
  },
  {
   "cell_type": "code",
   "execution_count": 3,
   "metadata": {
    "collapsed": false
   },
   "outputs": [
    {
     "name": "stdout",
     "output_type": "stream",
     "text": [
      "(4612, 2048)\n"
     ]
    }
   ],
   "source": [
    "imagen = loadtxt('./imagenes/sustraccion_4D/sust4D.dat')\n",
    "\n",
    "print shape(imagen)"
   ]
  },
  {
   "cell_type": "code",
   "execution_count": 4,
   "metadata": {
    "collapsed": false
   },
   "outputs": [
    {
     "name": "stdout",
     "output_type": "stream",
     "text": [
      "191.691223434\n"
     ]
    }
   ],
   "source": [
    "#Imagen vs Media\n",
    "#Grafico solo los puntos arriba de la media\n",
    "\n",
    "media = average(imagen)\n",
    "print media\n",
    "\n",
    "grafica_media = zeros((4612, 2048))\n",
    "\n",
    "for fila in range(4612):\n",
    "    for columna in range(2048):\n",
    "\n",
    "        pixel = imagen[fila][columna]\n",
    "\n",
    "        if (pixel > media):\n",
    "            grafica_media[fila][columna] = pixel"
   ]
  },
  {
   "cell_type": "code",
   "execution_count": 5,
   "metadata": {
    "collapsed": true
   },
   "outputs": [],
   "source": [
    "fig = figure(figsize=(14,24))\n",
    "imshow(grafica_media, cmap='gray',vmin=180,vmax=200)\n",
    "colorbar()\n",
    "savefig(path_imagenes+'media.png', bbox_inches='tight')\n",
    "close()"
   ]
  },
  {
   "cell_type": "code",
   "execution_count": 6,
   "metadata": {
    "collapsed": false
   },
   "outputs": [
    {
     "name": "stdout",
     "output_type": "stream",
     "text": [
      "79.9662132263\n"
     ]
    }
   ],
   "source": [
    "#Imagen vs Mediana\n",
    "#Grafico solo los puntos arriba de la mediana\n",
    "\n",
    "mediana = median(imagen)\n",
    "print mediana\n",
    "\n",
    "grafica_mediana = zeros((4612, 2048))\n",
    "\n",
    "for fila in range(4612):\n",
    "    for columna in range(2048):\n",
    "\n",
    "        pixel = imagen[fila][columna]\n",
    "\n",
    "        if (pixel > mediana):\n",
    "            grafica_mediana[fila][columna] = pixel"
   ]
  },
  {
   "cell_type": "code",
   "execution_count": 8,
   "metadata": {
    "collapsed": true
   },
   "outputs": [],
   "source": [
    "fig = figure(figsize=(14,24))\n",
    "imshow(grafica_mediana, cmap='gray',vmin=180,vmax=200)\n",
    "colorbar()\n",
    "savefig(path_imagenes+'mediana.png', bbox_inches='tight')\n",
    "close()"
   ]
  },
  {
   "cell_type": "code",
   "execution_count": null,
   "metadata": {
    "collapsed": true
   },
   "outputs": [],
   "source": []
  }
 ],
 "metadata": {
  "kernelspec": {
   "display_name": "Python 2",
   "language": "python",
   "name": "python2"
  },
  "language_info": {
   "codemirror_mode": {
    "name": "ipython",
    "version": 2
   },
   "file_extension": ".py",
   "mimetype": "text/x-python",
   "name": "python",
   "nbconvert_exporter": "python",
   "pygments_lexer": "ipython2",
   "version": "2.7.9"
  }
 },
 "nbformat": 4,
 "nbformat_minor": 0
}
