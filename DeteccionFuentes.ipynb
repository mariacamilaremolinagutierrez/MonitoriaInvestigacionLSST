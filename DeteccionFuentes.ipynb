{
 "cells": [
  {
   "cell_type": "markdown",
   "metadata": {},
   "source": [
    "#Notebook: Deteccion Fuentes\n",
    "###Por: Maria Camila Remolina Gutiérrez"
   ]
  },
  {
   "cell_type": "markdown",
   "metadata": {},
   "source": [
    "En este notebook se detectan las fuentes para la media"
   ]
  },
  {
   "cell_type": "code",
   "execution_count": 3,
   "metadata": {
    "collapsed": false
   },
   "outputs": [
    {
     "name": "stdout",
     "output_type": "stream",
     "text": [
      "Populating the interactive namespace from numpy and matplotlib\n"
     ]
    }
   ],
   "source": [
    "%pylab inline\n",
    "import sep #http://sep.readthedocs.org/\n",
    "import os \n",
    "from astropy.io import fits"
   ]
  },
  {
   "cell_type": "code",
   "execution_count": 4,
   "metadata": {
    "collapsed": true
   },
   "outputs": [],
   "source": [
    "#Paths\n",
    "path_deteccion = './imagenes/deteccion_fuentes/'\n",
    "path_supernova = './data/supernova/'"
   ]
  },
  {
   "cell_type": "code",
   "execution_count": 5,
   "metadata": {
    "collapsed": false
   },
   "outputs": [
    {
     "name": "stdout",
     "output_type": "stream",
     "text": [
      "(1200, 1200)\n"
     ]
    }
   ],
   "source": [
    "visita = fits.open('./imagenes/graficas/media.fits')\n",
    "\n",
    "data = visita[0].data\n",
    "\n",
    "visita.close()\n",
    "\n",
    "shape_data = shape(data)\n",
    "print shape_data"
   ]
  },
  {
   "cell_type": "code",
   "execution_count": 6,
   "metadata": {
    "collapsed": false
   },
   "outputs": [],
   "source": [
    "#Background\n",
    "\n",
    "try:\n",
    "    bkg = sep.Background(data)\n",
    "except ValueError:\n",
    "    data = data.byteswap().newbyteorder()\n",
    "    bkg = sep.Background(data)"
   ]
  },
  {
   "cell_type": "code",
   "execution_count": 7,
   "metadata": {
    "collapsed": false
   },
   "outputs": [
    {
     "name": "stdout",
     "output_type": "stream",
     "text": [
      "25\n"
     ]
    }
   ],
   "source": [
    "#Source detection\n",
    "\n",
    "thresh = 2.0 * bkg.globalrms\n",
    "objects = sep.extract(data, thresh) # objects is a numpy structured array\n",
    "\n",
    "num_objects = len(objects)\n",
    "print num_objects # number of objects"
   ]
  },
  {
   "cell_type": "code",
   "execution_count": 8,
   "metadata": {
    "collapsed": true
   },
   "outputs": [],
   "source": [
    "objects_x = []\n",
    "objects_y = []\n",
    "\n",
    "for i in range(num_objects):\n",
    "    x = objects['x'][i]\n",
    "    y = objects['y'][i]\n",
    "    \n",
    "    objects_x.append(x)\n",
    "    objects_y.append(y)\n",
    "    \n",
    "objects_x = array(objects_x)\n",
    "objects_y = array(objects_y)"
   ]
  },
  {
   "cell_type": "code",
   "execution_count": 9,
   "metadata": {
    "collapsed": false,
    "scrolled": false
   },
   "outputs": [
    {
     "data": {
      "image/png": "[encoded data removed]",
      "text/plain": [
       "<matplotlib.figure.Figure at 0x7f08268ef2d0>"
      ]
     },
     "metadata": {},
     "output_type": "display_data"
    }
   ],
   "source": [
    "x_max = shape_data[0]\n",
    "y_max = shape_data[1]\n",
    "\n",
    "fig = figure(figsize=(14,14))\n",
    "imshow(data, cmap='gray',vmin=0,vmax=7)\n",
    "colorbar()\n",
    "\n",
    "for i in range(len(objects)):\n",
    "    x = objects_x[i]\n",
    "    y = objects_y[i]\n",
    "    \n",
    "    porc_x = x/float(x_max)\n",
    "    porc_y = 1-y/float(y_max)\n",
    "    \n",
    "    axvline(x,porc_y-0.02,porc_y+0.02,c='c')\n",
    "    axhline(y,porc_x-0.02,porc_x+0.02,c='c') \n",
    "    text(x+1,y+1,str(i),color='y',fontsize=12)\n",
    "    \n",
    "savefig(path_deteccion+'fuentes.png', bbox_inches='tight')\n",
    "show()\n",
    "close()"
   ]
  },
  {
   "cell_type": "markdown",
   "metadata": {},
   "source": [
    "#Curvas de luz"
   ]
  },
  {
   "cell_type": "code",
   "execution_count": 16,
   "metadata": {
    "collapsed": false
   },
   "outputs": [
    {
     "name": "stdout",
     "output_type": "stream",
     "text": [
      "['+1.fits' '+3.fits' '-1,2.fits' '-2,2.fits' '-3.fits' '-4.fits' '0.fits']\n"
     ]
    }
   ],
   "source": [
    "supernovas = sort(os.listdir(path_supernova))\n",
    "num_supernovas = len(supernovas)\n",
    "\n",
    "print supernovas"
   ]
  },
  {
   "cell_type": "code",
   "execution_count": 17,
   "metadata": {
    "collapsed": false
   },
   "outputs": [],
   "source": [
    "objects_x_int = array([int(ox) for ox in objects_x])\n",
    "objects_y_int = array([int(oy) for oy in objects_y])"
   ]
  },
  {
   "cell_type": "code",
   "execution_count": 18,
   "metadata": {
    "collapsed": false
   },
   "outputs": [],
   "source": [
    "curvas = zeros((num_objects,num_supernovas))"
   ]
  },
  {
   "cell_type": "code",
   "execution_count": 19,
   "metadata": {
    "collapsed": false
   },
   "outputs": [],
   "source": [
    "for s in range(num_supernovas):\n",
    "            \n",
    "    supernova_i = fits.open(path_supernova+supernovas[s])\n",
    "    ccd14 = supernova_i[1].data\n",
    "    ccd14 = ccd14*60000/amax(ccd14) #Normalizando, no estoy segura si debería ir ahi\n",
    "       \n",
    "    for i in range(num_objects):\n",
    "        \n",
    "        columna = objects_x_int[i]\n",
    "        fila = objects_y_int[i]\n",
    "        \n",
    "        pixel = ccd14[fila][columna]\n",
    "            \n",
    "        curvas[i][s] = pixel\n",
    "\n",
    "    supernova_i.close()"
   ]
  },
  {
   "cell_type": "code",
   "execution_count": 33,
   "metadata": {
    "collapsed": false
   },
   "outputs": [],
   "source": [
    "sup = arange(num_supernovas)\n",
    "\n",
    "for i in range(num_objects):\n",
    "    intensidad = curvas[i][:]\n",
    "    intensidad_to_plot = []\n",
    "    \n",
    "    #['+1.fits' '+3.fits' '-1,2.fits' '-2,2.fits' '-3.fits' '-4.fits' '0.fits']\n",
    "    #[5,4,3,2,6,0,1],['-4', '-3', '-2,2', '-1,2', '0','+1', '+3']\n",
    "    for j in [5,4,3,2,6,0,1]:\n",
    "        intensidad_to_plot.append(intensidad[j])\n",
    "    \n",
    "    fig = figure(figsize=(20,10))\n",
    "    \n",
    "    plot(sup,intensidad_to_plot,color='c')\n",
    "    scatter(sup,intensidad_to_plot)\n",
    "      \n",
    "    xticks([0,1,2,3,4,5,6],['-4', '-3', '-2,2', '-1,2', '0','+1', '+3'])\n",
    "    xlabel('Visita',fontsize=20)\n",
    "    ylabel('Intensidad',fontsize=20)\n",
    "    xlim(0,num_supernovas-1)\n",
    "    ylim(-100,55000)\n",
    "    \n",
    "    savefig(path_deteccion+'curvas_de_luz/'+str(i)+'.png')\n",
    "    close()"
   ]
  },
  {
   "cell_type": "markdown",
   "metadata": {
    "collapsed": true
   },
   "source": [
    "#Curva sobre fuentes"
   ]
  },
  {
   "cell_type": "code",
   "execution_count": 37,
   "metadata": {
    "collapsed": false
   },
   "outputs": [],
   "source": [
    "for i in range(num_objects):\n",
    "\n",
    "    fila = objects_y_int[i]\n",
    "    columna = objects_x_int[i]\n",
    "    \n",
    "    arreglo_pixel = zeros(23)\n",
    "    arreglo_intensidad = zeros(23)\n",
    "    indice_arreglos = 0\n",
    "    \n",
    "    if (fila-12 < 0):\n",
    "        for lin in range(0,fila+11+1):\n",
    "            pixel = data[lin][columna]\n",
    "            arreglo_pixel[indice_arreglos] = lin\n",
    "            arreglo_intensidad[indice_arreglos] = pixel\n",
    "            indice_arreglos += 1\n",
    "            \n",
    "    elif (fila+12 > shape_data[1]):\n",
    "        for lin in range(fila-11,shape_data[1]):\n",
    "            pixel = data[lin][columna]\n",
    "            arreglo_pixel[indice_arreglos] = lin\n",
    "            arreglo_intensidad[indice_arreglos] = pixel\n",
    "            indice_arreglos += 1\n",
    "\n",
    "    else:\n",
    "        for lin in range(fila-11,fila+11+1):\n",
    "            pixel = data[lin][columna]\n",
    "            arreglo_pixel[indice_arreglos] = lin\n",
    "            arreglo_intensidad[indice_arreglos] = pixel\n",
    "            indice_arreglos += 1\n",
    "    \n",
    "    fig = figure(figsize=(20,10))\n",
    "    plot(arreglo_pixel,arreglo_intensidad,color='c')\n",
    "    scatter(arreglo_pixel,arreglo_intensidad)\n",
    "    xlabel('Pixel',fontsize=20)\n",
    "    ylabel('Intensidad',fontsize=20)\n",
    "    ylim(-10,40000)\n",
    "    savefig(path_deteccion+'curvas_sobre_fuentes/'+str(i)+'.png')\n",
    "    close()"
   ]
  },
  {
   "cell_type": "code",
   "execution_count": null,
   "metadata": {
    "collapsed": true
   },
   "outputs": [],
   "source": []
  }
 ],
 "metadata": {
  "kernelspec": {
   "display_name": "Python 2",
   "language": "python",
   "name": "python2"
  },
  "language_info": {
   "codemirror_mode": {
    "name": "ipython",
    "version": 2
   },
   "file_extension": ".py",
   "mimetype": "text/x-python",
   "name": "python",
   "nbconvert_exporter": "python",
   "pygments_lexer": "ipython2",
   "version": "2.7.9"
  }
 },
 "nbformat": 4,
 "nbformat_minor": 0
}
