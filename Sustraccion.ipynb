{
 "cells": [
  {
   "cell_type": "code",
   "execution_count": 1,
   "metadata": {
    "collapsed": false
   },
   "outputs": [
    {
     "name": "stdout",
     "output_type": "stream",
     "text": [
      "Populating the interactive namespace from numpy and matplotlib\n"
     ]
    }
   ],
   "source": [
    "%pylab inline\n",
    "from astropy.io import fits\n",
    "import os"
   ]
  },
  {
   "cell_type": "markdown",
   "metadata": {
    "collapsed": true
   },
   "source": [
    "#Supernova"
   ]
  },
  {
   "cell_type": "code",
   "execution_count": 2,
   "metadata": {
    "collapsed": false
   },
   "outputs": [],
   "source": [
    "path = '../data_marcosmo/2006-02-06/'\n",
    "path_imagenes = './imagenes/visitas/2006-02-06/'\n",
    "visitas = sort(os.listdir(path))"
   ]
  },
  {
   "cell_type": "code",
   "execution_count": 3,
   "metadata": {
    "collapsed": false,
    "scrolled": true
   },
   "outputs": [
    {
     "name": "stdout",
     "output_type": "stream",
     "text": [
      "['calexp-837002-14.fits' 'calexp-837003-14.fits' 'calexp-837004-14.fits'\n",
      " 'calexp-837005-14.fits' 'calexp-837006-14.fits' 'calexp-837007-14.fits'\n",
      " 'calexp-837008-14.fits']\n"
     ]
    }
   ],
   "source": [
    "print visitas"
   ]
  },
  {
   "cell_type": "code",
   "execution_count": 4,
   "metadata": {
    "collapsed": false
   },
   "outputs": [
    {
     "name": "stdout",
     "output_type": "stream",
     "text": [
      "60982.8\n",
      "64798.7\n",
      "64648.6\n",
      "61801.3\n",
      "62851.0\n",
      "55677.6\n",
      "60516.9\n"
     ]
    }
   ],
   "source": [
    "for vis_fname in visitas: \n",
    "    \n",
    "    visita = fits.open(path+vis_fname)\n",
    "\n",
    "    ccd14 = visita[1].data\n",
    "        \n",
    "    fig = figure(figsize=(14,24))\n",
    "    imshow(ccd14, cmap='gray',vmin=20,vmax=30)\n",
    "    colorbar()\n",
    "    savefig(path_imagenes+vis_fname.split('.')[0]+'.png', bbox_inches='tight')\n",
    "    close()\n",
    "    \n",
    "    print amax(ccd14)\n",
    "    \n",
    "    visita.close()"
   ]
  },
  {
   "cell_type": "markdown",
   "metadata": {
    "collapsed": true
   },
   "source": [
    "#Otra fecha"
   ]
  },
  {
   "cell_type": "code",
   "execution_count": 6,
   "metadata": {
    "collapsed": false
   },
   "outputs": [],
   "source": [
    "path = '../data_marcosmo/2006-06-30/'\n",
    "path_imagenes = './imagenes/visitas/2006-06-30/'\n",
    "visitas = sort(os.listdir(path))"
   ]
  },
  {
   "cell_type": "code",
   "execution_count": 7,
   "metadata": {
    "collapsed": false,
    "scrolled": true
   },
   "outputs": [
    {
     "name": "stdout",
     "output_type": "stream",
     "text": [
      "['calexp-853539-14.fits' 'calexp-853540-14.fits' 'calexp-853541-14.fits'\n",
      " 'calexp-853542-14.fits' 'calexp-853543-14.fits']\n"
     ]
    }
   ],
   "source": [
    "print visitas"
   ]
  },
  {
   "cell_type": "code",
   "execution_count": 8,
   "metadata": {
    "collapsed": false
   },
   "outputs": [
    {
     "name": "stdout",
     "output_type": "stream",
     "text": [
      "63903.4\n",
      "61872.5\n",
      "60939.5\n",
      "58476.6\n",
      "61441.4\n"
     ]
    }
   ],
   "source": [
    "for vis_fname in visitas: \n",
    "    \n",
    "    visita = fits.open(path+vis_fname)\n",
    "\n",
    "    ccd14 = visita[1].data\n",
    "        \n",
    "    fig = figure(figsize=(14,24))\n",
    "    imshow(ccd14, cmap='gray',vmin=20,vmax=30)\n",
    "    colorbar()\n",
    "    savefig(path_imagenes+vis_fname.split('.')[0]+'.png', bbox_inches='tight')\n",
    "    close()\n",
    "    \n",
    "    print amax(ccd14)\n",
    "    \n",
    "    visita.close()"
   ]
  },
  {
   "cell_type": "code",
   "execution_count": 9,
   "metadata": {
    "collapsed": false
   },
   "outputs": [
    {
     "name": "stdout",
     "output_type": "stream",
     "text": [
      "(4612, 2048)\n"
     ]
    }
   ],
   "source": [
    "print shape(ccd14)"
   ]
  },
  {
   "cell_type": "code",
   "execution_count": null,
   "metadata": {
    "collapsed": true
   },
   "outputs": [],
   "source": []
  },
  {
   "cell_type": "markdown",
   "metadata": {},
   "source": [
    "#SUSTRACCION IMAGEN-IMAGEN"
   ]
  },
  {
   "cell_type": "code",
   "execution_count": null,
   "metadata": {
    "collapsed": true
   },
   "outputs": [],
   "source": []
  },
  {
   "cell_type": "code",
   "execution_count": null,
   "metadata": {
    "collapsed": true
   },
   "outputs": [],
   "source": []
  },
  {
   "cell_type": "code",
   "execution_count": null,
   "metadata": {
    "collapsed": true
   },
   "outputs": [],
   "source": []
  },
  {
   "cell_type": "markdown",
   "metadata": {},
   "source": [
    "#SUSTRACCION IMAGEN-COADICION"
   ]
  },
  {
   "cell_type": "code",
   "execution_count": 21,
   "metadata": {
    "collapsed": true
   },
   "outputs": [],
   "source": [
    "path_s = '../data_marcosmo/2006-02-06/'\n",
    "path_o = '../data_marcosmo/2006-06-30/'\n",
    "path_imagenes = './imagenes/sustraccion_coadicion/'\n",
    "visitas_s = sort(os.listdir(path_s))\n",
    "visitas_o = sort(os.listdir(path_o))"
   ]
  },
  {
   "cell_type": "code",
   "execution_count": 22,
   "metadata": {
    "collapsed": false
   },
   "outputs": [],
   "source": [
    "coadicion = zeros((4612, 2048))\n",
    "\n",
    "for v_o in visitas_o: \n",
    "    \n",
    "    visita = fits.open(path_o+v_o)\n",
    "\n",
    "    ccd14 = visita[1].data\n",
    "        \n",
    "    coadicion = coadicion + ccd14\n",
    "    \n",
    "    visita.close()\n",
    "    \n",
    "coadicion = coadicion*65000/amax(coadicion)"
   ]
  },
  {
   "cell_type": "code",
   "execution_count": 23,
   "metadata": {
    "collapsed": false
   },
   "outputs": [],
   "source": [
    "fig = figure(figsize=(14,24))\n",
    "imshow(coadicion, cmap='gray',vmin=20,vmax=30)\n",
    "colorbar()\n",
    "savefig(path_imagenes+'coadicion.png', bbox_inches='tight')\n",
    "close()"
   ]
  },
  {
   "cell_type": "code",
   "execution_count": 25,
   "metadata": {
    "collapsed": true
   },
   "outputs": [],
   "source": [
    "for v_s in visitas_s: \n",
    "    \n",
    "    visita = fits.open(path_s+v_s)\n",
    "\n",
    "    ccd14 = visita[1].data\n",
    "    ccd14 = ccd14*65000/amax(ccd14)\n",
    "    \n",
    "    sustraccion_coadicion = ccd14 - coadicion\n",
    "    \n",
    "    fig = figure(figsize=(14,24))\n",
    "    imshow(ccd14, cmap='gray',vmin=20,vmax=30)\n",
    "    colorbar()\n",
    "    savefig(path_imagenes+'sustraccion_coadicion_'+v_s.split('.')[0]+'.png', bbox_inches='tight')\n",
    "    close()\n",
    "    \n",
    "    visita.close()"
   ]
  },
  {
   "cell_type": "code",
   "execution_count": null,
   "metadata": {
    "collapsed": true
   },
   "outputs": [],
   "source": []
  },
  {
   "cell_type": "markdown",
   "metadata": {},
   "source": [
    "#SUSTRACCION 4D "
   ]
  },
  {
   "cell_type": "code",
   "execution_count": 26,
   "metadata": {
    "collapsed": false
   },
   "outputs": [
    {
     "name": "stdout",
     "output_type": "stream",
     "text": [
      "['../data_marcosmo/2006-02-06/calexp-837002-14.fits'\n",
      " '../data_marcosmo/2006-02-06/calexp-837003-14.fits'\n",
      " '../data_marcosmo/2006-02-06/calexp-837004-14.fits'\n",
      " '../data_marcosmo/2006-02-06/calexp-837005-14.fits'\n",
      " '../data_marcosmo/2006-02-06/calexp-837006-14.fits'\n",
      " '../data_marcosmo/2006-02-06/calexp-837007-14.fits'\n",
      " '../data_marcosmo/2006-02-06/calexp-837008-14.fits'\n",
      " '../data_marcosmo/2006-06-30/calexp-853539-14.fits'\n",
      " '../data_marcosmo/2006-06-30/calexp-853540-14.fits'\n",
      " '../data_marcosmo/2006-06-30/calexp-853541-14.fits'\n",
      " '../data_marcosmo/2006-06-30/calexp-853542-14.fits'\n",
      " '../data_marcosmo/2006-06-30/calexp-853543-14.fits']\n"
     ]
    }
   ],
   "source": [
    "path_s = '../data_marcosmo/2006-02-06/'\n",
    "path_o = '../data_marcosmo/2006-06-30/'\n",
    "path_imagenes = './imagenes/sustraccion_4D/'\n",
    "visitas = []\n",
    "\n",
    "for v_s in os.listdir(path_s):\n",
    "    visitas.append(path_s+v_s)\n",
    "    \n",
    "for v_o in os.listdir(path_o):\n",
    "    visitas.append(path_o+v_o)\n",
    "\n",
    "visitas = sort(array(visitas))\n",
    "\n",
    "print visitas"
   ]
  },
  {
   "cell_type": "code",
   "execution_count": 27,
   "metadata": {
    "collapsed": true
   },
   "outputs": [],
   "source": [
    "num_visitas = len(visitas)\n",
    "\n",
    "#shape = (4612, 2048)\n",
    "minimos = ones((4612, 2048))*65000\n",
    "maximos = zeros((4612, 2048))"
   ]
  },
  {
   "cell_type": "code",
   "execution_count": 16,
   "metadata": {
    "collapsed": false
   },
   "outputs": [],
   "source": [
    "for v in visitas:\n",
    "            \n",
    "    visita = fits.open(v)\n",
    "    ccd14 = visita[1].data\n",
    "    #ccd14 = ccd14*65000/amax(ccd14) #Normalizando, no estoy segura si debería ir ahi\n",
    "    \n",
    "    for fila in range(4612):\n",
    "        for columna in range(2048):\n",
    "            \n",
    "            pixel = ccd14[fila][columna]\n",
    "            \n",
    "            if (pixel < minimos[fila][columna]):\n",
    "                minimos[fila][columna] = pixel\n",
    "            \n",
    "            if (pixel > maximos[fila][columna]):\n",
    "                maximos[fila][columna] = pixel\n",
    "\n",
    "    visita.close()"
   ]
  },
  {
   "cell_type": "code",
   "execution_count": 17,
   "metadata": {
    "collapsed": true
   },
   "outputs": [],
   "source": [
    "sustraccion4D = maximos-minimos"
   ]
  },
  {
   "cell_type": "code",
   "execution_count": 29,
   "metadata": {
    "collapsed": false
   },
   "outputs": [
    {
     "data": {
      "text/plain": [
       "191.69122343361045"
      ]
     },
     "execution_count": 29,
     "metadata": {},
     "output_type": "execute_result"
    }
   ],
   "source": [
    "average(sustraccion4D)"
   ]
  },
  {
   "cell_type": "code",
   "execution_count": 30,
   "metadata": {
    "collapsed": false
   },
   "outputs": [],
   "source": [
    "fig = figure(figsize=(14,24))\n",
    "imshow(sustraccion4D, cmap='gray',vmin=180,vmax=200)\n",
    "colorbar()\n",
    "savefig(path_imagenes+'sustraccion4D.png', bbox_inches='tight')\n",
    "close()"
   ]
  },
  {
   "cell_type": "code",
   "execution_count": 26,
   "metadata": {
    "collapsed": false
   },
   "outputs": [],
   "source": [
    "savetxt('sust4D.dat',sustraccion4D)"
   ]
  },
  {
   "cell_type": "code",
   "execution_count": null,
   "metadata": {
    "collapsed": true
   },
   "outputs": [],
   "source": []
  }
 ],
 "metadata": {
  "kernelspec": {
   "display_name": "Python 2",
   "language": "python",
   "name": "python2"
  },
  "language_info": {
   "codemirror_mode": {
    "name": "ipython",
    "version": 2
   },
   "file_extension": ".py",
   "mimetype": "text/x-python",
   "name": "python",
   "nbconvert_exporter": "python",
   "pygments_lexer": "ipython2",
   "version": "2.7.9"
  }
 },
 "nbformat": 4,
 "nbformat_minor": 0
}
