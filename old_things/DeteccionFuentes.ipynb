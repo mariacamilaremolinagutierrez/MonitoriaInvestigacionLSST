{
 "cells": [
  {
   "cell_type": "code",
   "execution_count": 28,
   "metadata": {
    "collapsed": false
   },
   "outputs": [
    {
     "name": "stdout",
     "output_type": "stream",
     "text": [
      "Populating the interactive namespace from numpy and matplotlib\n"
     ]
    }
   ],
   "source": [
    "%pylab inline\n",
    "import sep, os\n",
    "from astropy.io import fits"
   ]
  },
  {
   "cell_type": "code",
   "execution_count": 40,
   "metadata": {
    "collapsed": true
   },
   "outputs": [],
   "source": [
    "path_imagenes = './imagenes/deteccion_fuentes/'"
   ]
  },
  {
   "cell_type": "code",
   "execution_count": 3,
   "metadata": {
    "collapsed": false
   },
   "outputs": [
    {
     "name": "stdout",
     "output_type": "stream",
     "text": [
      "(4612, 2048)\n"
     ]
    }
   ],
   "source": [
    "data = loadtxt('./imagenes/graficas/media.dat')\n",
    "\n",
    "print shape(data)"
   ]
  },
  {
   "cell_type": "code",
   "execution_count": 4,
   "metadata": {
    "collapsed": true
   },
   "outputs": [],
   "source": [
    "#Background\n",
    "\n",
    "bkg = sep.Background(data)"
   ]
  },
  {
   "cell_type": "code",
   "execution_count": 24,
   "metadata": {
    "collapsed": false
   },
   "outputs": [
    {
     "name": "stdout",
     "output_type": "stream",
     "text": [
      "654\n"
     ]
    }
   ],
   "source": [
    "#Source detection\n",
    "\n",
    "thresh = 10.0 * bkg.globalrms\n",
    "objects = sep.extract(data, thresh) # objects is a numpy structured array\n",
    "\n",
    "num_objects = len(objects)\n",
    "print num_objects # number of objects"
   ]
  },
  {
   "cell_type": "code",
   "execution_count": 15,
   "metadata": {
    "collapsed": true
   },
   "outputs": [],
   "source": [
    "objects_x = []\n",
    "objects_y = []\n",
    "\n",
    "for i in range(num_objects):\n",
    "    x = objects['x'][i]\n",
    "    y = objects['y'][i]\n",
    "    \n",
    "    objects_x.append(x)\n",
    "    objects_y.append(y)\n",
    "    \n",
    "objects_x = array(objects_x)\n",
    "objects_y = array(objects_y)"
   ]
  },
  {
   "cell_type": "code",
   "execution_count": 16,
   "metadata": {
    "collapsed": false,
    "scrolled": true
   },
   "outputs": [],
   "source": [
    "x_max = 2048\n",
    "y_max = 4612\n",
    "\n",
    "fig = figure(figsize=(14,24))\n",
    "imshow(data, cmap='gray',vmin=180,vmax=200)\n",
    "colorbar()\n",
    "\n",
    "for i in range(len(objects)):\n",
    "    x = objects_x[i]\n",
    "    y = objects_y[i]\n",
    "    \n",
    "    porc_x = x/float(x_max)\n",
    "    porc_y = 1-y/float(y_max)\n",
    "    \n",
    "    axvline(x,porc_y-0.01,porc_y+0.01)\n",
    "    axhline(y,porc_x-0.02,porc_x+0.02) \n",
    "    \n",
    "savefig(path_imagenes+'fuentes.png', bbox_inches='tight')\n",
    "close()"
   ]
  },
  {
   "cell_type": "markdown",
   "metadata": {},
   "source": [
    "#Curvas de luz"
   ]
  },
  {
   "cell_type": "code",
   "execution_count": 25,
   "metadata": {
    "collapsed": false
   },
   "outputs": [
    {
     "name": "stdout",
     "output_type": "stream",
     "text": [
      "12\n",
      "['../data_marcosmo/2006-02-06/calexp-837002-14.fits'\n",
      " '../data_marcosmo/2006-02-06/calexp-837003-14.fits'\n",
      " '../data_marcosmo/2006-02-06/calexp-837004-14.fits'\n",
      " '../data_marcosmo/2006-02-06/calexp-837005-14.fits'\n",
      " '../data_marcosmo/2006-02-06/calexp-837006-14.fits'\n",
      " '../data_marcosmo/2006-02-06/calexp-837007-14.fits'\n",
      " '../data_marcosmo/2006-02-06/calexp-837008-14.fits'\n",
      " '../data_marcosmo/2006-06-30/calexp-853539-14.fits'\n",
      " '../data_marcosmo/2006-06-30/calexp-853540-14.fits'\n",
      " '../data_marcosmo/2006-06-30/calexp-853541-14.fits'\n",
      " '../data_marcosmo/2006-06-30/calexp-853542-14.fits'\n",
      " '../data_marcosmo/2006-06-30/calexp-853543-14.fits']\n"
     ]
    }
   ],
   "source": [
    "path_s = '../data_marcosmo/2006-02-06/'\n",
    "path_o = '../data_marcosmo/2006-06-30/'\n",
    "visitas = []\n",
    "\n",
    "for v_s in os.listdir(path_s):\n",
    "    visitas.append(path_s+v_s)\n",
    "    \n",
    "for v_o in os.listdir(path_o):\n",
    "    visitas.append(path_o+v_o)\n",
    "\n",
    "visitas = sort(array(visitas))\n",
    "num_visitas = len(visitas)\n",
    "\n",
    "print num_visitas\n",
    "print visitas"
   ]
  },
  {
   "cell_type": "code",
   "execution_count": 33,
   "metadata": {
    "collapsed": false
   },
   "outputs": [],
   "source": [
    "objects_x_int = array([int(ox) for ox in objects_x])\n",
    "objects_y_int = array([int(oy) for oy in objects_y])"
   ]
  },
  {
   "cell_type": "code",
   "execution_count": 26,
   "metadata": {
    "collapsed": true
   },
   "outputs": [],
   "source": [
    "curvas = zeros((num_objects,num_visitas))"
   ]
  },
  {
   "cell_type": "code",
   "execution_count": 34,
   "metadata": {
    "collapsed": false
   },
   "outputs": [],
   "source": [
    "for v in range(num_visitas):\n",
    "            \n",
    "    visita = fits.open(visitas[v])\n",
    "    ccd14 = visita[1].data\n",
    "    #ccd14 = ccd14*65000/amax(ccd14) #Normalizando, no estoy segura si debería ir ahi\n",
    "       \n",
    "    for i in range(num_objects):\n",
    "        \n",
    "        columna = objects_x_int[i]\n",
    "        fila = objects_y_int[i]\n",
    "        \n",
    "        pixel = ccd14[fila][columna]\n",
    "            \n",
    "        curvas[i][v] = pixel\n",
    "\n",
    "    visita.close()"
   ]
  },
  {
   "cell_type": "code",
   "execution_count": 47,
   "metadata": {
    "collapsed": false
   },
   "outputs": [],
   "source": [
    "vis = arange(num_visitas)\n",
    "\n",
    "for i in range(num_objects):\n",
    "    intensidad = curvas[i][:]\n",
    "    \n",
    "    fig = figure(figsize=(20,10))\n",
    "    scatter(vis,intensidad)\n",
    "    plot(vis,intensidad,c='c')\n",
    "    xlabel('Visita',fontsize=20)\n",
    "    ylabel('Intensidad',fontsize=20)\n",
    "    xlim(0,num_visitas-1)\n",
    "    ylim(-amax(intensidad)*0.01,amax(intensidad)*1.01)\n",
    "    savefig(path_imagenes+'curvas_de_luz/'+str(i)+'.png')\n",
    "    close()"
   ]
  },
  {
   "cell_type": "code",
   "execution_count": null,
   "metadata": {
    "collapsed": true
   },
   "outputs": [],
   "source": []
  }
 ],
 "metadata": {
  "kernelspec": {
   "display_name": "Python 2",
   "language": "python",
   "name": "python2"
  },
  "language_info": {
   "codemirror_mode": {
    "name": "ipython",
    "version": 2
   },
   "file_extension": ".py",
   "mimetype": "text/x-python",
   "name": "python",
   "nbconvert_exporter": "python",
   "pygments_lexer": "ipython2",
   "version": "2.7.9"
  }
 },
 "nbformat": 4,
 "nbformat_minor": 0
}
